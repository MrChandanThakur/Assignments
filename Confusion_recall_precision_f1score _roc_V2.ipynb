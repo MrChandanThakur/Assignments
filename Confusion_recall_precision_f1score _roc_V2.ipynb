{
 "cells": [
  {
   "cell_type": "code",
   "execution_count": 88,
   "metadata": {},
   "outputs": [
    {
     "name": "stdout",
     "output_type": "stream",
     "text": [
      "The confusion matrix is [[0, 2], [2, 3]]\n",
      "'Recall'/'TPR' is  0.6\n",
      "Precision is 0.6\n",
      "False Positive Rate is 1.0\n",
      "F1_score is 0.6\n",
      "the AUC is: 0.6\n"
     ]
    },
    {
     "data": {
      "image/png": "[encoded data removed]",
      "text/plain": [
       "<Figure size 432x288 with 1 Axes>"
      ]
     },
     "metadata": {
      "needs_background": "light"
     },
     "output_type": "display_data"
    }
   ],
   "source": [
    "import matplotlib.pyplot as plt\n",
    "import color as color\n",
    "def cm(actual, predicted, normalize = False):\n",
    "   \n",
    "    unique = sorted(set(actual))\n",
    "    matrix = [[0 for _ in unique] for _ in unique]\n",
    "    imap   = {key: i for i, key in enumerate(unique)}\n",
    "   \n",
    "   \n",
    "    for p, a in zip(predicted, actual):\n",
    "        matrix[imap[p]][imap[a]] += 1\n",
    "    if normalize:\n",
    "        sigma = sum([sum(matrix[imap[i]]) for i in unique])\n",
    "        \n",
    "        matrix = [row in map(lambda i: list(map(lambda j: j / sigma, i)), matrix)]\n",
    "    \n",
    "    return matrix\n",
    "\n",
    "y_actual = [1,1,0,1,1,0,1]\n",
    "y_pred =   [1,0,1,1,0,1,1]\n",
    "cm1 = cm(y_actual, y_pred)\n",
    "print(\"The confusion matrix is\",cm1)   \n",
    "def perf_measure(actual, pred):\n",
    "    TP = 0\n",
    "    FP = 0\n",
    "    TN = 0\n",
    "    FN = 0\n",
    "\n",
    "    for i in range(len(y_pred)): \n",
    "        if y_actual[i]==y_pred[i]==1:\n",
    "           TP += 1\n",
    "        if y_pred[i]==1 and y_actual[i]!=y_pred[i]:\n",
    "           FP += 1\n",
    "        if y_actual[i]==y_pred[i]==0:\n",
    "           TN += 1\n",
    "        if y_pred[i]==0 and y_actual[i]!=y_pred[i]:\n",
    "           FN += 1\n",
    "    recall = TP/(TP+FN)\n",
    "    print(\"'Recall'/'TPR' is \",recall)\n",
    "    precision = TP/(TP+FP)\n",
    "    print(\"Precision is\",precision)\n",
    "    fpr = (FP/(FP+TN))\n",
    "    print(\"False Positive Rate is\",fpr)\n",
    "    f1_score = (2 * precision * recall) / (precision + recall)\n",
    "    print(\"F1_score is\",f1_score)\n",
    "    \n",
    "\n",
    "\n",
    "    AUC=fpr*recall\n",
    "    print(\"the AUC is:\",AUC)\n",
    "\n",
    "    \n",
    "    plt.scatter(fpr,recall,linestyle = 'dotted',color = 'red')\n",
    "    plt.plot(y_actual, y_pred,linestyle = 'dashed')\n",
    "    plt.xlabel('false positive rate')\n",
    "    plt.ylabel('true positive rate')\n",
    "    plt.xlim([0.5,1.5])\n",
    "    plt.ylim([0.5,1.5])\n",
    "    plt.title(\"ROC Curve\")\n",
    "    plt.show()\n",
    "#     return(TP, FP, TN, FN)\n",
    "\n",
    "\n",
    "perf_measure(y_actual, y_pred)\n",
    "\n",
    "\n"
   ]
  },
  {
   "cell_type": "code",
   "execution_count": null,
   "metadata": {},
   "outputs": [],
   "source": []
  },
  {
   "cell_type": "code",
   "execution_count": null,
   "metadata": {},
   "outputs": [],
   "source": []
  },
  {
   "cell_type": "code",
   "execution_count": null,
   "metadata": {},
   "outputs": [],
   "source": []
  }
 ],
 "metadata": {
  "kernelspec": {
   "display_name": "Python 3",
   "language": "python",
   "name": "python3"
  },
  "language_info": {
   "codemirror_mode": {
    "name": "ipython",
    "version": 3
   },
   "file_extension": ".py",
   "mimetype": "text/x-python",
   "name": "python",
   "nbconvert_exporter": "python",
   "pygments_lexer": "ipython3",
   "version": "3.7.3"
  }
 },
 "nbformat": 4,
 "nbformat_minor": 2
}
